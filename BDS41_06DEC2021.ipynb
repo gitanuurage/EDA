{
  "nbformat": 4,
  "nbformat_minor": 0,
  "metadata": {
    "colab": {
      "provenance": [],
      "authorship_tag": "ABX9TyNRgd7fYnhgZcmU/djDB1dh",
      "include_colab_link": true
    },
    "kernelspec": {
      "name": "python3",
      "display_name": "Python 3"
    },
    "language_info": {
      "name": "python"
    }
  },
  "cells": [
    {
      "cell_type": "markdown",
      "metadata": {
        "id": "view-in-github",
        "colab_type": "text"
      },
      "source": [
        "<a href=\"https://colab.research.google.com/github/gitanuurage/EDA/blob/main/BDS41_06DEC2021.ipynb\" target=\"_parent\"><img src=\"https://colab.research.google.com/assets/colab-badge.svg\" alt=\"Open In Colab\"/></a>"
      ]
    },
    {
      "cell_type": "markdown",
      "source": [
        "\n",
        "```\n",
        "Day 1\n",
        "\n",
        "Introduction to Python\n",
        "Hello World Program\n",
        "Features of Python\n",
        "Variables\n",
        "Keywords & Identifier\n",
        "Dynamically Typed\n",
        "Data Type\n",
        "```\n"
      ],
      "metadata": {
        "id": "FAcdAGFuu3Ql"
      }
    },
    {
      "cell_type": "code",
      "execution_count": null,
      "metadata": {
        "id": "yRUsKU6wuG7A",
        "colab": {
          "base_uri": "https://localhost:8080/"
        },
        "outputId": "11bc4fac-afcd-4bfe-dea1-9060f34b9802"
      },
      "outputs": [
        {
          "output_type": "stream",
          "name": "stdout",
          "text": [
            "Welcome to BDS41 - Data Science\n"
          ]
        }
      ],
      "source": [
        "print('Welcome to BDS41 - Data Science')"
      ]
    },
    {
      "cell_type": "code",
      "source": [
        "print('Welcome World')"
      ],
      "metadata": {
        "colab": {
          "base_uri": "https://localhost:8080/"
        },
        "id": "FhPQJdhYwJ5W",
        "outputId": "76c57314-09cb-46bb-851a-3534a870628a"
      },
      "execution_count": null,
      "outputs": [
        {
          "output_type": "stream",
          "name": "stdout",
          "text": [
            "Welcome World\n"
          ]
        }
      ]
    },
    {
      "cell_type": "markdown",
      "source": [
        "what is variable in programming language?\n",
        "\n",
        "named memory space"
      ],
      "metadata": {
        "id": "Gg6aWYiO5EN1"
      }
    },
    {
      "cell_type": "code",
      "source": [
        "school_name = 'Shri Shiv Chattrapati Shivaji Maharaj High School'\n",
        "school_location = 'Keshav Nagar'\n",
        "school_city = 'Pune'\n",
        "school_state = 'Maharashtra'\n",
        "\n",
        "'''\n",
        "variable 'school_name' is name of variable\n",
        "'Shri Shiv Chattrapati Shivaji Maharaj High School' is value of variable 'school_name'\n",
        "'''"
      ],
      "metadata": {
        "id": "OiFPiIXIwRbB"
      },
      "execution_count": null,
      "outputs": []
    },
    {
      "cell_type": "code",
      "source": [
        "name = 'Anurag Arun Edlabadkar'\n",
        "age = 45\n",
        "gender = 'M'\n",
        "city = 'Pune'"
      ],
      "metadata": {
        "id": "DLWDULRt6bpY"
      },
      "execution_count": null,
      "outputs": []
    },
    {
      "cell_type": "code",
      "source": [
        "var_name = 'Anurag'\n",
        "print(var_name)\n",
        "print(type(var_name))\n",
        "var_name = 'Arun'\n",
        "print(var_name)\n",
        "print(type(var_name))\n",
        "var_name = 9890781832\n",
        "\n",
        "print(var_name)\n",
        "print(type(var_name))\n",
        "var_name = 'anuurag.edlabadkar@gmail.com'\n",
        "print(var_name)\n",
        "print(type(var_name))\n",
        "var_name = 87.65\n",
        "print(var_name)\n",
        "print(type(var_name))"
      ],
      "metadata": {
        "colab": {
          "base_uri": "https://localhost:8080/"
        },
        "id": "sy_v8oJ17qDw",
        "outputId": "d065c39c-2fa9-492c-99f7-4ab4873a073f"
      },
      "execution_count": null,
      "outputs": [
        {
          "output_type": "stream",
          "name": "stdout",
          "text": [
            "Anurag\n",
            "<class 'str'>\n",
            "Arun\n",
            "<class 'str'>\n",
            "9890781832\n",
            "<class 'int'>\n",
            "anuurag.edlabadkar@gmail.com\n",
            "<class 'str'>\n",
            "87.65\n",
            "<class 'float'>\n"
          ]
        }
      ]
    },
    {
      "cell_type": "markdown",
      "source": [
        "```\n",
        "Python is a dynamic, high-level, free open source, and interpreted programming language.\n",
        "\n",
        "Features in Python\n",
        "In this section we will see what are the features of Python programming language:\n",
        "\n",
        "1. Free and Open Source\n",
        "2. Easy to code\n",
        "3. Easy to Read\n",
        "4. Object-Oriented Language\n",
        "5. GUI Programming Support\n",
        "6. High-Level Language\n",
        "7. Large Community Support\n",
        "8. Easy to Debug\n",
        "9. Python is a Portable language\n",
        "10. Python is an Integrated language\n",
        "11. Interpreted Language:\n",
        "12. Large Standard Library\n",
        "13. Dynamically Typed Language\n",
        "14. Frontend and backend development\n",
        "```"
      ],
      "metadata": {
        "id": "FiNW2R3hPajq"
      }
    },
    {
      "cell_type": "markdown",
      "source": [
        "https://anuurag.com/variable-in-python"
      ],
      "metadata": {
        "id": "hHUxsmC6P8KY"
      }
    },
    {
      "cell_type": "markdown",
      "source": [
        "```\n",
        "Dynamic programming language\n",
        "\n",
        "Programming language paradigm\n",
        "\n",
        "In computer science, a dynamic programming language is a class of high-level programming languages, which at runtime execute many common programming behaviours that static programming languages perform during compilation. by Wikipedia\n",
        "\n",
        "Dynamically-typed languages are those (like JavaScript) where the interpreter assigns variables a type at runtime based on the variable's value at the time.\n",
        "```"
      ],
      "metadata": {
        "id": "2PsOO7bzQpfR"
      }
    },
    {
      "cell_type": "markdown",
      "source": [
        "#**Tuesday Dec 05, 2023**"
      ],
      "metadata": {
        "id": "OTWSg-uEqeRA"
      }
    },
    {
      "cell_type": "markdown",
      "source": [
        "\n",
        "```\n",
        "Day 2\n",
        "\n",
        "\n",
        "\n",
        "Python Data Type\n",
        "Built-In Functions\n",
        "Slicing & Indexing\n",
        "Positive & Negative\n",
        "```\n",
        "\n"
      ],
      "metadata": {
        "id": "67Juuk2xql9i"
      }
    },
    {
      "cell_type": "code",
      "source": [
        "name = 'surendra'\n",
        "print(name)\n",
        "print(type(name))"
      ],
      "metadata": {
        "colab": {
          "base_uri": "https://localhost:8080/"
        },
        "id": "GUIyl05EqlR2",
        "outputId": "61ee6639-6768-4779-e072-4336c6dfc3ed"
      },
      "execution_count": null,
      "outputs": [
        {
          "output_type": "stream",
          "name": "stdout",
          "text": [
            "surendra\n",
            "<class 'str'>\n"
          ]
        }
      ]
    },
    {
      "cell_type": "markdown",
      "source": [
        "```\n",
        "\n",
        "1. Standard Data Type\n",
        "  1. Number\n",
        "    1. Integer\n",
        "    2. Float\n",
        "    3. Complex\n",
        "  2. Boolean\n",
        "  3. String\n",
        "\n",
        "2. Data Structure Data Type\n",
        "  1. List\n",
        "  2. Tuple\n",
        "  3. Set\n",
        "  4. Dictionary\n",
        "```"
      ],
      "metadata": {
        "id": "TEeFmDWjq7e3"
      }
    },
    {
      "cell_type": "code",
      "source": [
        "mobile = 9890781832\n",
        "print(mobile, type(mobile))\n",
        "percent = 87.65\n",
        "print(percent, type(percent))\n",
        "complx = 12+23j\n",
        "print(complx, type(complx))\n",
        "visa = True\n",
        "print(visa, type(visa))\n",
        "name = 'Sukesh Mishra'\n",
        "print(name, type(name))\n",
        "name = \"Sukesh Mishra\"\n",
        "print(name, type(name))\n",
        "name = '''Sukesh Mishra'''\n",
        "print(name, type(name))\n",
        "name = \"\"\"Sukesh Mishra\"\"\"\n",
        "print(name, type(name))"
      ],
      "metadata": {
        "id": "6YN8s9wuQARQ",
        "colab": {
          "base_uri": "https://localhost:8080/"
        },
        "outputId": "085be745-aa20-417d-a67f-f5aad722fa24"
      },
      "execution_count": null,
      "outputs": [
        {
          "output_type": "stream",
          "name": "stdout",
          "text": [
            "9890781832 <class 'int'>\n",
            "87.65 <class 'float'>\n",
            "(12+23j) <class 'complex'>\n",
            "True <class 'bool'>\n",
            "Sukesh Mishra <class 'str'>\n",
            "Sukesh Mishra <class 'str'>\n",
            "Sukesh Mishra <class 'str'>\n",
            "Sukesh Mishra <class 'str'>\n"
          ]
        }
      ]
    },
    {
      "cell_type": "code",
      "source": [
        "lst1 = ['apple','banana','cherries','dates']\n",
        "print(lst1, type(lst1))\n",
        "\n",
        "tup1 = ('suger','tea','coffee','bread')\n",
        "print(tup1, type(tup1))\n",
        "\n",
        "set1 = {1,2,3,4,'a','b','c','d',12.23,34.45,56.66,True,False}\n",
        "print(set1, type(set1))\n",
        "\n",
        "dict1 = {1:'apple',2:'banana',3:'cherries',4:'dates'}\n",
        "print(dict1, type(dict1))"
      ],
      "metadata": {
        "colab": {
          "base_uri": "https://localhost:8080/"
        },
        "id": "rht1wuOFwyl-",
        "outputId": "2e3ffee1-b158-4f9a-b99d-eba1b40a4014"
      },
      "execution_count": null,
      "outputs": [
        {
          "output_type": "stream",
          "name": "stdout",
          "text": [
            "['apple', 'banana', 'cherries', 'dates'] <class 'list'>\n",
            "('suger', 'tea', 'coffee', 'bread') <class 'tuple'>\n",
            "{False, 1, 2, 3, 4, 'b', 34.45, 12.23, 'd', 'c', 'a', 56.66} <class 'set'>\n",
            "{1: 'apple', 2: 'banana', 3: 'cherries', 4: 'dates'} <class 'dict'>\n"
          ]
        }
      ]
    },
    {
      "cell_type": "markdown",
      "source": [
        "#**Built-in Functions of Python List Data Type**"
      ],
      "metadata": {
        "id": "97WuK_tD152b"
      }
    },
    {
      "cell_type": "code",
      "source": [
        "lst1 = ['apple','banana','cherries','dates','eggfruit','fig','grapes','honeyfruit']\n",
        "print(lst1, type(lst1))"
      ],
      "metadata": {
        "colab": {
          "base_uri": "https://localhost:8080/"
        },
        "id": "Dm-ZB3eD0oQw",
        "outputId": "d8b0309e-9314-415b-88e0-d870f2cd9319"
      },
      "execution_count": null,
      "outputs": [
        {
          "output_type": "stream",
          "name": "stdout",
          "text": [
            "['apple', 'banana', 'cherries', 'dates', 'eggfruit', 'fig', 'grapes', 'honeyfruit'] <class 'list'>\n"
          ]
        }
      ]
    },
    {
      "cell_type": "code",
      "source": [
        "print(lst1)\n",
        "lst1.append('mango')\n",
        "print(lst1)"
      ],
      "metadata": {
        "colab": {
          "base_uri": "https://localhost:8080/"
        },
        "id": "f7la33iO2j6X",
        "outputId": "79e3e2c6-d4a9-4d18-e8f7-663813dc54b2"
      },
      "execution_count": null,
      "outputs": [
        {
          "output_type": "stream",
          "name": "stdout",
          "text": [
            "['apple', 'banana', 'cherries', 'dates', 'eggfruit', 'fig', 'grapes', 'honeyfruit']\n",
            "['apple', 'banana', 'cherries', 'dates', 'eggfruit', 'fig', 'grapes', 'honeyfruit', 'mango']\n"
          ]
        }
      ]
    },
    {
      "cell_type": "code",
      "source": [
        "print(lst1)\n",
        "lst1.clear()\n",
        "print(lst1)"
      ],
      "metadata": {
        "colab": {
          "base_uri": "https://localhost:8080/"
        },
        "id": "5qAPHlYo206Q",
        "outputId": "bc4f15de-47fb-4196-9823-c80820c9e9b2"
      },
      "execution_count": null,
      "outputs": [
        {
          "output_type": "stream",
          "name": "stdout",
          "text": [
            "['apple', 'banana', 'cherries', 'dates', 'eggfruit', 'fig', 'grapes', 'honeyfruit', 'mango']\n",
            "[]\n"
          ]
        }
      ]
    },
    {
      "cell_type": "code",
      "source": [
        "lst1 = ['apple', 'banana', 'cherries', 'dates', 'eggfruit', 'fig', 'grapes', 'honeyfruit', 'mango']"
      ],
      "metadata": {
        "id": "ycjMKFD03Bxr"
      },
      "execution_count": null,
      "outputs": []
    },
    {
      "cell_type": "code",
      "source": [
        "print(lst1)\n",
        "lst2 = lst1.copy()\n",
        "print(lst1, lst2)"
      ],
      "metadata": {
        "colab": {
          "base_uri": "https://localhost:8080/"
        },
        "id": "lIF4wqcJ3EEl",
        "outputId": "fdf1d6c6-55db-4a3d-919a-670247904613"
      },
      "execution_count": null,
      "outputs": [
        {
          "output_type": "stream",
          "name": "stdout",
          "text": [
            "['apple', 'banana', 'cherries', 'dates', 'eggfruit', 'fig', 'grapes', 'honeyfruit', 'mango']\n",
            "['apple', 'banana', 'cherries', 'dates', 'eggfruit', 'fig', 'grapes', 'honeyfruit', 'mango'] ['apple', 'banana', 'cherries', 'dates', 'eggfruit', 'fig', 'grapes', 'honeyfruit', 'mango']\n"
          ]
        }
      ]
    },
    {
      "cell_type": "code",
      "source": [
        "print(lst1)\n",
        "lst1.count('apple')"
      ],
      "metadata": {
        "colab": {
          "base_uri": "https://localhost:8080/"
        },
        "id": "0tXJbl9C3T24",
        "outputId": "5481bf98-12a5-4b45-f76e-a3358d56a93c"
      },
      "execution_count": null,
      "outputs": [
        {
          "output_type": "stream",
          "name": "stdout",
          "text": [
            "['apple', 'banana', 'cherries', 'dates', 'eggfruit', 'fig', 'grapes', 'honeyfruit', 'mango']\n"
          ]
        },
        {
          "output_type": "execute_result",
          "data": {
            "text/plain": [
              "1"
            ]
          },
          "metadata": {},
          "execution_count": 17
        }
      ]
    },
    {
      "cell_type": "code",
      "source": [
        "print(lst1)\n",
        "lst1.extend(['pineapple','custurdapple','greenapple'])\n",
        "print(lst1)"
      ],
      "metadata": {
        "colab": {
          "base_uri": "https://localhost:8080/"
        },
        "id": "fd4Bk9N03thC",
        "outputId": "d5d6657e-3486-435a-c905-60c26e9c98f9"
      },
      "execution_count": null,
      "outputs": [
        {
          "output_type": "stream",
          "name": "stdout",
          "text": [
            "['apple', 'banana', 'cherries', 'dates', 'eggfruit', 'fig', 'grapes', 'honeyfruit', 'mango']\n",
            "['apple', 'banana', 'cherries', 'dates', 'eggfruit', 'fig', 'grapes', 'honeyfruit', 'mango', 'pineapple', 'custurdapple', 'greenapple']\n"
          ]
        }
      ]
    },
    {
      "cell_type": "code",
      "source": [
        "print(lst1)\n",
        "lst1.index('apple')"
      ],
      "metadata": {
        "colab": {
          "base_uri": "https://localhost:8080/"
        },
        "id": "RkDvl0gy4HRZ",
        "outputId": "efc4e9bc-97da-4af2-ba51-03aeafdae4e8"
      },
      "execution_count": null,
      "outputs": [
        {
          "output_type": "stream",
          "name": "stdout",
          "text": [
            "['apple', 'banana', 'cherries', 'dates', 'eggfruit', 'fig', 'grapes', 'honeyfruit', 'mango', 'pineapple', 'custurdapple', 'greenapple']\n"
          ]
        },
        {
          "output_type": "execute_result",
          "data": {
            "text/plain": [
              "0"
            ]
          },
          "metadata": {},
          "execution_count": 21
        }
      ]
    },
    {
      "cell_type": "code",
      "source": [
        "lst1 = ['apple', 'banana', 'cherries', 'dates', 'apple', 'eggfruit', 'fig', 'grapes', 'honeyfruit']\n",
        "print(lst1)\n",
        "lst1.index('apple', 5, 8)"
      ],
      "metadata": {
        "colab": {
          "base_uri": "https://localhost:8080/",
          "height": 245
        },
        "id": "bakg6Ref4sUO",
        "outputId": "cf8bcef0-3387-4ce0-b4fb-3e06aa755df6"
      },
      "execution_count": null,
      "outputs": [
        {
          "output_type": "stream",
          "name": "stdout",
          "text": [
            "['apple', 'banana', 'cherries', 'dates', 'apple', 'eggfruit', 'fig', 'grapes', 'honeyfruit']\n"
          ]
        },
        {
          "output_type": "error",
          "ename": "ValueError",
          "evalue": "ignored",
          "traceback": [
            "\u001b[0;31m---------------------------------------------------------------------------\u001b[0m",
            "\u001b[0;31mValueError\u001b[0m                                Traceback (most recent call last)",
            "\u001b[0;32m<ipython-input-24-984e87bb156e>\u001b[0m in \u001b[0;36m<cell line: 3>\u001b[0;34m()\u001b[0m\n\u001b[1;32m      1\u001b[0m \u001b[0mlst1\u001b[0m \u001b[0;34m=\u001b[0m \u001b[0;34m[\u001b[0m\u001b[0;34m'apple'\u001b[0m\u001b[0;34m,\u001b[0m \u001b[0;34m'banana'\u001b[0m\u001b[0;34m,\u001b[0m \u001b[0;34m'cherries'\u001b[0m\u001b[0;34m,\u001b[0m \u001b[0;34m'dates'\u001b[0m\u001b[0;34m,\u001b[0m \u001b[0;34m'apple'\u001b[0m\u001b[0;34m,\u001b[0m \u001b[0;34m'eggfruit'\u001b[0m\u001b[0;34m,\u001b[0m \u001b[0;34m'fig'\u001b[0m\u001b[0;34m,\u001b[0m \u001b[0;34m'grapes'\u001b[0m\u001b[0;34m,\u001b[0m \u001b[0;34m'honeyfruit'\u001b[0m\u001b[0;34m]\u001b[0m\u001b[0;34m\u001b[0m\u001b[0;34m\u001b[0m\u001b[0m\n\u001b[1;32m      2\u001b[0m \u001b[0mprint\u001b[0m\u001b[0;34m(\u001b[0m\u001b[0mlst1\u001b[0m\u001b[0;34m)\u001b[0m\u001b[0;34m\u001b[0m\u001b[0;34m\u001b[0m\u001b[0m\n\u001b[0;32m----> 3\u001b[0;31m \u001b[0mlst1\u001b[0m\u001b[0;34m.\u001b[0m\u001b[0mindex\u001b[0m\u001b[0;34m(\u001b[0m\u001b[0;34m'apple'\u001b[0m\u001b[0;34m,\u001b[0m \u001b[0;36m5\u001b[0m\u001b[0;34m,\u001b[0m \u001b[0;36m8\u001b[0m\u001b[0;34m)\u001b[0m\u001b[0;34m\u001b[0m\u001b[0;34m\u001b[0m\u001b[0m\n\u001b[0m",
            "\u001b[0;31mValueError\u001b[0m: 'apple' is not in list"
          ]
        }
      ]
    },
    {
      "cell_type": "code",
      "source": [
        "lst1 = ['apple', 'banana', 'cherries', 'dates', 'eggfruit', 'fig', 'grapes', 'honeyfruit', 'mango']\n",
        "print(lst1)\n",
        "lst1.insert(1,'apricot')\n",
        "print(lst1)"
      ],
      "metadata": {
        "colab": {
          "base_uri": "https://localhost:8080/"
        },
        "id": "OAyHMe6l5eDk",
        "outputId": "5ede0ba8-fe26-4e60-b5de-909ad7e0cefa"
      },
      "execution_count": null,
      "outputs": [
        {
          "output_type": "stream",
          "name": "stdout",
          "text": [
            "['apple', 'banana', 'cherries', 'dates', 'eggfruit', 'fig', 'grapes', 'honeyfruit', 'mango']\n",
            "['apple', 'apricot', 'banana', 'cherries', 'dates', 'eggfruit', 'fig', 'grapes', 'honeyfruit', 'mango']\n"
          ]
        }
      ]
    },
    {
      "cell_type": "code",
      "source": [
        "print(lst1)\n",
        "lst1.pop()\n",
        "print(lst1)\n",
        "lst1.pop()\n",
        "print(lst1)\n",
        "lst1.pop()\n",
        "print(lst1)\n",
        "lst1.pop()\n",
        "print(lst1)\n",
        "lst1.pop()\n",
        "print(lst1)"
      ],
      "metadata": {
        "colab": {
          "base_uri": "https://localhost:8080/"
        },
        "id": "E1GDd1Fb6Qff",
        "outputId": "f55b4ab6-13af-417f-e38c-7302bf42b530"
      },
      "execution_count": null,
      "outputs": [
        {
          "output_type": "stream",
          "name": "stdout",
          "text": [
            "['apple', 'apricot', 'banana', 'cherries', 'dates', 'eggfruit', 'fig', 'grapes', 'honeyfruit']\n",
            "['apple', 'apricot', 'banana', 'cherries', 'dates', 'eggfruit', 'fig', 'grapes']\n",
            "['apple', 'apricot', 'banana', 'cherries', 'dates', 'eggfruit', 'fig']\n",
            "['apple', 'apricot', 'banana', 'cherries', 'dates', 'eggfruit']\n",
            "['apple', 'apricot', 'banana', 'cherries', 'dates']\n",
            "['apple', 'apricot', 'banana', 'cherries']\n"
          ]
        }
      ]
    },
    {
      "cell_type": "code",
      "source": [
        "lst1 = ['apple', 'apricot', 'banana', 'cherries', 'dates', 'eggfruit', 'fig', 'grapes', 'honeyfruit', 'mango']"
      ],
      "metadata": {
        "id": "uXARp88B6rgL"
      },
      "execution_count": null,
      "outputs": []
    },
    {
      "cell_type": "code",
      "source": [
        "print(lst1)\n",
        "lst1.pop(3)\n",
        "print(lst1)"
      ],
      "metadata": {
        "colab": {
          "base_uri": "https://localhost:8080/"
        },
        "id": "iW2ws-xB6wPP",
        "outputId": "698a2016-8900-4550-b391-39b9e4adf5d2"
      },
      "execution_count": null,
      "outputs": [
        {
          "output_type": "stream",
          "name": "stdout",
          "text": [
            "['apple', 'apricot', 'banana', 'cherries', 'dates', 'eggfruit', 'fig', 'grapes', 'honeyfruit', 'mango']\n",
            "['apple', 'apricot', 'banana', 'dates', 'eggfruit', 'fig', 'grapes', 'honeyfruit', 'mango']\n"
          ]
        }
      ]
    },
    {
      "cell_type": "code",
      "source": [
        "print(lst1)\n",
        "lst1.remove('fig')\n",
        "print(lst1)"
      ],
      "metadata": {
        "colab": {
          "base_uri": "https://localhost:8080/"
        },
        "id": "0GCi-Uz57EcF",
        "outputId": "145ce22d-65d4-44c3-a40d-57f52c3a81b8"
      },
      "execution_count": null,
      "outputs": [
        {
          "output_type": "stream",
          "name": "stdout",
          "text": [
            "['apple', 'apricot', 'banana', 'dates', 'eggfruit', 'fig', 'grapes', 'honeyfruit', 'mango']\n",
            "['apple', 'apricot', 'banana', 'dates', 'eggfruit', 'grapes', 'honeyfruit', 'mango']\n"
          ]
        }
      ]
    },
    {
      "cell_type": "code",
      "source": [
        "print(lst1)\n",
        "lst1.reverse()\n",
        "print(lst1)"
      ],
      "metadata": {
        "colab": {
          "base_uri": "https://localhost:8080/"
        },
        "id": "95W7f3Pe7Ts0",
        "outputId": "cc6b2caf-bc0e-47d9-c947-5e02879e3cc5"
      },
      "execution_count": null,
      "outputs": [
        {
          "output_type": "stream",
          "name": "stdout",
          "text": [
            "['apple', 'apricot', 'banana', 'dates', 'eggfruit', 'grapes', 'honeyfruit', 'mango']\n",
            "['mango', 'honeyfruit', 'grapes', 'eggfruit', 'dates', 'banana', 'apricot', 'apple']\n"
          ]
        }
      ]
    },
    {
      "cell_type": "code",
      "source": [
        "lst1.sort()\n",
        "print(lst1)"
      ],
      "metadata": {
        "colab": {
          "base_uri": "https://localhost:8080/"
        },
        "id": "iCBzXbGG7eYr",
        "outputId": "fae23489-43c8-412b-91d0-c3440a234449"
      },
      "execution_count": null,
      "outputs": [
        {
          "output_type": "stream",
          "name": "stdout",
          "text": [
            "['apple', 'apricot', 'banana', 'dates', 'eggfruit', 'grapes', 'honeyfruit', 'mango']\n"
          ]
        }
      ]
    },
    {
      "cell_type": "code",
      "source": [
        "lst1 = ['apple', 'banana', 'cherries', 'dates', 'eggfruit', 'fig', 'grapes', 'honeyfruit', 'mango']\n",
        "print(lst1)"
      ],
      "metadata": {
        "colab": {
          "base_uri": "https://localhost:8080/"
        },
        "id": "G2NLkcjyAJ1S",
        "outputId": "8361e709-c784-401c-e7f5-636d15315925"
      },
      "execution_count": null,
      "outputs": [
        {
          "output_type": "stream",
          "name": "stdout",
          "text": [
            "['apple', 'banana', 'cherries', 'dates', 'eggfruit', 'fig', 'grapes', 'honeyfruit', 'mango']\n"
          ]
        }
      ]
    },
    {
      "cell_type": "code",
      "source": [
        "lst1[0], lst1[1], lst1[2]"
      ],
      "metadata": {
        "id": "XAO5_KttAOfl"
      },
      "execution_count": null,
      "outputs": []
    },
    {
      "cell_type": "code",
      "source": [
        "lst1[0:3:1]"
      ],
      "metadata": {
        "id": "u7zm8yVoAg5U"
      },
      "execution_count": null,
      "outputs": []
    },
    {
      "cell_type": "code",
      "source": [
        "lst1[2:7:1]"
      ],
      "metadata": {
        "id": "hdW6pC1VAsSQ"
      },
      "execution_count": null,
      "outputs": []
    },
    {
      "cell_type": "code",
      "source": [
        "lst1[1::1]"
      ],
      "metadata": {
        "id": "sE4c51aVBALI"
      },
      "execution_count": null,
      "outputs": []
    },
    {
      "cell_type": "code",
      "source": [
        "lst1[::]"
      ],
      "metadata": {
        "id": "MTwEUheGBLCJ"
      },
      "execution_count": null,
      "outputs": []
    },
    {
      "cell_type": "code",
      "source": [
        "lst1[0:len(lst1):1]"
      ],
      "metadata": {
        "colab": {
          "base_uri": "https://localhost:8080/"
        },
        "id": "Wpk8KEAkBbNo",
        "outputId": "6cb16706-498d-4f76-cf8c-47f8a601975b"
      },
      "execution_count": null,
      "outputs": [
        {
          "output_type": "execute_result",
          "data": {
            "text/plain": [
              "['apple',\n",
              " 'banana',\n",
              " 'cherries',\n",
              " 'dates',\n",
              " 'eggfruit',\n",
              " 'fig',\n",
              " 'grapes',\n",
              " 'honeyfruit',\n",
              " 'mango']"
            ]
          },
          "metadata": {},
          "execution_count": 46
        }
      ]
    },
    {
      "cell_type": "code",
      "source": [
        "lst1[0:len(lst1):2]"
      ],
      "metadata": {
        "colab": {
          "base_uri": "https://localhost:8080/"
        },
        "id": "EQDIAXaDB4N9",
        "outputId": "a9fcdd3a-a75f-408b-ae0c-f1427d8cba4b"
      },
      "execution_count": null,
      "outputs": [
        {
          "output_type": "execute_result",
          "data": {
            "text/plain": [
              "['apple', 'cherries', 'eggfruit', 'grapes', 'mango']"
            ]
          },
          "metadata": {},
          "execution_count": 47
        }
      ]
    },
    {
      "cell_type": "code",
      "source": [
        "lst1[::]"
      ],
      "metadata": {
        "colab": {
          "base_uri": "https://localhost:8080/"
        },
        "id": "McIWy7dHDz2D",
        "outputId": "c4400449-ffb9-4f08-cb75-1898f32cbec8"
      },
      "execution_count": null,
      "outputs": [
        {
          "output_type": "execute_result",
          "data": {
            "text/plain": [
              "['apple',\n",
              " 'banana',\n",
              " 'cherries',\n",
              " 'dates',\n",
              " 'eggfruit',\n",
              " 'fig',\n",
              " 'grapes',\n",
              " 'honeyfruit',\n",
              " 'mango']"
            ]
          },
          "metadata": {},
          "execution_count": 48
        }
      ]
    },
    {
      "cell_type": "code",
      "source": [
        "lst1[::-1]"
      ],
      "metadata": {
        "colab": {
          "base_uri": "https://localhost:8080/"
        },
        "id": "W8TVNq80D6L1",
        "outputId": "76adca7a-fbf4-4452-c80c-53ae3fc4a5f4"
      },
      "execution_count": null,
      "outputs": [
        {
          "output_type": "execute_result",
          "data": {
            "text/plain": [
              "['mango',\n",
              " 'honeyfruit',\n",
              " 'grapes',\n",
              " 'fig',\n",
              " 'eggfruit',\n",
              " 'dates',\n",
              " 'cherries',\n",
              " 'banana',\n",
              " 'apple']"
            ]
          },
          "metadata": {},
          "execution_count": 49
        }
      ]
    },
    {
      "cell_type": "code",
      "source": [
        "lst1"
      ],
      "metadata": {
        "colab": {
          "base_uri": "https://localhost:8080/"
        },
        "id": "_1NyN1MLEG2T",
        "outputId": "623e65cb-ae55-4466-eade-3283a9b82337"
      },
      "execution_count": null,
      "outputs": [
        {
          "output_type": "execute_result",
          "data": {
            "text/plain": [
              "['apple',\n",
              " 'banana',\n",
              " 'cherries',\n",
              " 'dates',\n",
              " 'eggfruit',\n",
              " 'fig',\n",
              " 'grapes',\n",
              " 'honeyfruit',\n",
              " 'mango']"
            ]
          },
          "metadata": {},
          "execution_count": 50
        }
      ]
    },
    {
      "cell_type": "markdown",
      "source": [
        "#**Wednesday Dec 06, 2023**"
      ],
      "metadata": {
        "id": "gOLIZDSxzxPV"
      }
    },
    {
      "cell_type": "code",
      "source": [
        "lst1 = [12,23,34,45,56,67,78,89,90]"
      ],
      "metadata": {
        "id": "zOMOzFZ9z5ao"
      },
      "execution_count": 1,
      "outputs": []
    },
    {
      "cell_type": "code",
      "source": [
        "lst1[::]"
      ],
      "metadata": {
        "colab": {
          "base_uri": "https://localhost:8080/"
        },
        "id": "yXyLyqYQ0NvH",
        "outputId": "bd6d71c1-9224-4e13-bc99-bc0f17511f67"
      },
      "execution_count": 2,
      "outputs": [
        {
          "output_type": "execute_result",
          "data": {
            "text/plain": [
              "[12, 23, 34, 45, 56, 67, 78, 89, 90]"
            ]
          },
          "metadata": {},
          "execution_count": 2
        }
      ]
    },
    {
      "cell_type": "code",
      "source": [
        "lst1[0::]"
      ],
      "metadata": {
        "colab": {
          "base_uri": "https://localhost:8080/"
        },
        "id": "BTqv7_MS0cgx",
        "outputId": "f35515f0-9142-4f7a-8a21-942d77656468"
      },
      "execution_count": 3,
      "outputs": [
        {
          "output_type": "execute_result",
          "data": {
            "text/plain": [
              "[12, 23, 34, 45, 56, 67, 78, 89, 90]"
            ]
          },
          "metadata": {},
          "execution_count": 3
        }
      ]
    },
    {
      "cell_type": "code",
      "source": [
        "lst1[:len(lst1):]"
      ],
      "metadata": {
        "colab": {
          "base_uri": "https://localhost:8080/"
        },
        "id": "7C3j8b_t0hP4",
        "outputId": "d2d2fb71-2872-4598-8c79-26a829e38f76"
      },
      "execution_count": 4,
      "outputs": [
        {
          "output_type": "execute_result",
          "data": {
            "text/plain": [
              "[12, 23, 34, 45, 56, 67, 78, 89, 90]"
            ]
          },
          "metadata": {},
          "execution_count": 4
        }
      ]
    },
    {
      "cell_type": "code",
      "source": [
        "lst1[::1]"
      ],
      "metadata": {
        "colab": {
          "base_uri": "https://localhost:8080/"
        },
        "id": "uqZu9KOm0rJo",
        "outputId": "961cc4c1-7438-4b2d-bccc-f968baac89f4"
      },
      "execution_count": 5,
      "outputs": [
        {
          "output_type": "execute_result",
          "data": {
            "text/plain": [
              "[12, 23, 34, 45, 56, 67, 78, 89, 90]"
            ]
          },
          "metadata": {},
          "execution_count": 5
        }
      ]
    },
    {
      "cell_type": "code",
      "source": [
        "lst1[:4:]"
      ],
      "metadata": {
        "colab": {
          "base_uri": "https://localhost:8080/"
        },
        "id": "BDdyz2pg0yj2",
        "outputId": "5e8b94e3-5c08-4b82-ba03-61f2d1f8bbb3"
      },
      "execution_count": 6,
      "outputs": [
        {
          "output_type": "execute_result",
          "data": {
            "text/plain": [
              "[12, 23, 34, 45]"
            ]
          },
          "metadata": {},
          "execution_count": 6
        }
      ]
    },
    {
      "cell_type": "code",
      "source": [
        "lst1[2:6:]"
      ],
      "metadata": {
        "colab": {
          "base_uri": "https://localhost:8080/"
        },
        "id": "uazoZmKv07ln",
        "outputId": "c78f44ac-59f8-4030-dc08-5bfd2423b261"
      },
      "execution_count": 7,
      "outputs": [
        {
          "output_type": "execute_result",
          "data": {
            "text/plain": [
              "[34, 45, 56, 67]"
            ]
          },
          "metadata": {},
          "execution_count": 7
        }
      ]
    },
    {
      "cell_type": "code",
      "source": [
        "# Right to left - Negative Slicing"
      ],
      "metadata": {
        "id": "Qzaj96hh1LJd"
      },
      "execution_count": null,
      "outputs": []
    },
    {
      "cell_type": "code",
      "source": [
        "lst1"
      ],
      "metadata": {
        "colab": {
          "base_uri": "https://localhost:8080/"
        },
        "id": "uHQ9_q0U2IOc",
        "outputId": "a9f9d458-c76a-4985-8ad7-e4d01a1e0057"
      },
      "execution_count": 10,
      "outputs": [
        {
          "output_type": "execute_result",
          "data": {
            "text/plain": [
              "[12, 23, 34, 45, 56, 67, 78, 89, 90]"
            ]
          },
          "metadata": {},
          "execution_count": 10
        }
      ]
    },
    {
      "cell_type": "code",
      "source": [
        "lst1[-1:-(len(lst1)+1):-1]"
      ],
      "metadata": {
        "colab": {
          "base_uri": "https://localhost:8080/"
        },
        "id": "qrhkCz2t1XQm",
        "outputId": "9733883e-3f0c-4787-ef37-dfe9cf75457b"
      },
      "execution_count": 9,
      "outputs": [
        {
          "output_type": "execute_result",
          "data": {
            "text/plain": [
              "[90, 89, 78, 67, 56, 45, 34, 23, 12]"
            ]
          },
          "metadata": {},
          "execution_count": 9
        }
      ]
    },
    {
      "cell_type": "code",
      "source": [
        "lst1[-6::-1]"
      ],
      "metadata": {
        "colab": {
          "base_uri": "https://localhost:8080/"
        },
        "id": "Bjz022i32QcH",
        "outputId": "7646391c-3bed-4547-86a2-50d8e2d4e014"
      },
      "execution_count": 11,
      "outputs": [
        {
          "output_type": "execute_result",
          "data": {
            "text/plain": [
              "[45, 34, 23, 12]"
            ]
          },
          "metadata": {},
          "execution_count": 11
        }
      ]
    },
    {
      "cell_type": "code",
      "source": [
        "lst1[-4:-8:-1]"
      ],
      "metadata": {
        "colab": {
          "base_uri": "https://localhost:8080/"
        },
        "id": "TlLIieTn2uOw",
        "outputId": "934613aa-c7dc-41d5-b597-4e2019a79dfc"
      },
      "execution_count": 12,
      "outputs": [
        {
          "output_type": "execute_result",
          "data": {
            "text/plain": [
              "[67, 56, 45, 34]"
            ]
          },
          "metadata": {},
          "execution_count": 12
        }
      ]
    },
    {
      "cell_type": "code",
      "source": [
        "lst1"
      ],
      "metadata": {
        "colab": {
          "base_uri": "https://localhost:8080/"
        },
        "id": "YNGq5ZuR84ji",
        "outputId": "3f0911ec-9cdd-42b7-f4e9-2815d1b5cf57"
      },
      "execution_count": 13,
      "outputs": [
        {
          "output_type": "execute_result",
          "data": {
            "text/plain": [
              "[12, 23, 34, 45, 56, 67, 78, 89, 90]"
            ]
          },
          "metadata": {},
          "execution_count": 13
        }
      ]
    },
    {
      "cell_type": "code",
      "source": [
        "positive indexing and positive slicing\n",
        "negative indexing and positive slicing\n",
        "negative indexing and negative slicing\n",
        "positive indexing and negative slicing"
      ],
      "metadata": {
        "id": "H-hqCbsa86-b"
      },
      "execution_count": null,
      "outputs": []
    },
    {
      "cell_type": "code",
      "source": [
        "lst1[3::1] # positive indexing and positive slicing"
      ],
      "metadata": {
        "colab": {
          "base_uri": "https://localhost:8080/"
        },
        "id": "6ZiB1C5z9WiZ",
        "outputId": "453b91f4-4686-4ff6-d41c-9ee6b727c7ca"
      },
      "execution_count": 16,
      "outputs": [
        {
          "output_type": "execute_result",
          "data": {
            "text/plain": [
              "[45, 56, 67, 78, 89, 90]"
            ]
          },
          "metadata": {},
          "execution_count": 16
        }
      ]
    },
    {
      "cell_type": "code",
      "source": [
        "lst1[-6::1] # negative indexing and positive slicing"
      ],
      "metadata": {
        "colab": {
          "base_uri": "https://localhost:8080/"
        },
        "id": "jHFV8Yrl9han",
        "outputId": "5b18c9f6-ad39-42ae-9bf0-5ac96d75a164"
      },
      "execution_count": 15,
      "outputs": [
        {
          "output_type": "execute_result",
          "data": {
            "text/plain": [
              "[45, 56, 67, 78, 89, 90]"
            ]
          },
          "metadata": {},
          "execution_count": 15
        }
      ]
    },
    {
      "cell_type": "code",
      "source": [
        "lst1[-1:-7:-1] # negative indexing and negative slicing"
      ],
      "metadata": {
        "colab": {
          "base_uri": "https://localhost:8080/"
        },
        "id": "C4JfZfPR-Ucg",
        "outputId": "1a5cc891-5699-4975-d0ca-7b25222b76e5"
      },
      "execution_count": 17,
      "outputs": [
        {
          "output_type": "execute_result",
          "data": {
            "text/plain": [
              "[90, 89, 78, 67, 56, 45]"
            ]
          },
          "metadata": {},
          "execution_count": 17
        }
      ]
    },
    {
      "cell_type": "code",
      "source": [
        "lst1[:2:-1] # positive indexing and negative slicing"
      ],
      "metadata": {
        "colab": {
          "base_uri": "https://localhost:8080/"
        },
        "id": "ImeUSLrB-0s2",
        "outputId": "924eca0f-7cb2-41cd-eccc-932e221f8dea"
      },
      "execution_count": 22,
      "outputs": [
        {
          "output_type": "execute_result",
          "data": {
            "text/plain": [
              "[90, 89, 78, 67, 56, 45]"
            ]
          },
          "metadata": {},
          "execution_count": 22
        }
      ]
    },
    {
      "cell_type": "markdown",
      "source": [
        "```\n",
        "\n",
        "positive indexing and positive slicing\n",
        "negative indexing and positive slicing\n",
        "negative indexing and negative slicing\n",
        "positive indexing and negative slicing\n",
        "\n",
        "\n",
        "1. Strings\n",
        "2. Tuple\n",
        "```"
      ],
      "metadata": {
        "id": "yc1tZ39IDgLn"
      }
    },
    {
      "cell_type": "markdown",
      "source": [
        "```\n",
        "\n",
        "Python Operators\n",
        "\n",
        "1. Arithmetic operators\n",
        "2. Assignment operators\n",
        "3. Comparison operators\n",
        "4. Logical operators\n",
        "```"
      ],
      "metadata": {
        "id": "NAuf3y1FDtYn"
      }
    },
    {
      "cell_type": "code",
      "source": [
        "# Python Arithmetic Operators\n",
        "\n",
        "a= 10\n",
        "b= 5\n",
        "\n",
        "print(a+b)\n",
        "print(a-b)\n",
        "print(a*b)\n",
        "print(a/b)\n",
        "\n",
        "a=13\n",
        "b=3\n",
        "\n",
        "print(a%b) # Modulus\n",
        "print(a//b) # Floor division\n",
        "print(a**b) # Exponentiation\n",
        "\n",
        "13*13*13"
      ],
      "metadata": {
        "colab": {
          "base_uri": "https://localhost:8080/"
        },
        "id": "bZMz440hD86r",
        "outputId": "daf912f9-90d8-48e8-8c77-37adcff44640"
      },
      "execution_count": 28,
      "outputs": [
        {
          "output_type": "stream",
          "name": "stdout",
          "text": [
            "15\n",
            "5\n",
            "50\n",
            "2.0\n",
            "1\n",
            "4\n",
            "2197\n"
          ]
        },
        {
          "output_type": "execute_result",
          "data": {
            "text/plain": [
              "2197"
            ]
          },
          "metadata": {},
          "execution_count": 28
        }
      ]
    },
    {
      "cell_type": "markdown",
      "source": [
        "```\n",
        "\n",
        "Python Assignment Operators\n",
        "\n",
        "=\tx = 5\tx = 5\n",
        "+=\tx += 3\tx = x + 3\n",
        "-=\tx -= 3\tx = x - 3\n",
        "*=\tx *= 3\tx = x * 3\n",
        "/=\tx /= 3\tx = x / 3\n",
        "%=\tx %= 3\tx = x % 3\n",
        "//=\tx //= 3\tx = x // 3\n",
        "**=\tx **= 3\tx = x ** 3\n",
        "&=\tx &= 3\tx = x & 3\n",
        "|=\tx |= 3\tx = x | 3\n",
        "^=\tx ^= 3\tx = x ^ 3\n",
        ">>=\tx >>= 3\tx = x >> 3\n",
        "<<=\tx <<= 3\tx = x << 3\n",
        "```"
      ],
      "metadata": {
        "id": "x4UTHM04FknK"
      }
    },
    {
      "cell_type": "code",
      "source": [
        "a = 10\n",
        "b = 20\n",
        "\n",
        "a += b\n",
        "print(a)\n",
        "\n",
        "a = 10\n",
        "b = 20\n",
        "\n",
        "a -= b\n",
        "print(a)"
      ],
      "metadata": {
        "colab": {
          "base_uri": "https://localhost:8080/"
        },
        "id": "1eYmmhLMGlxV",
        "outputId": "96cd0f28-915c-4791-b52a-8bb48d6b6b6e"
      },
      "execution_count": 31,
      "outputs": [
        {
          "output_type": "stream",
          "name": "stdout",
          "text": [
            "30\n",
            "-10\n"
          ]
        }
      ]
    },
    {
      "cell_type": "markdown",
      "source": [
        "#**Python Comparison Operators**\n",
        "\n",
        "```\n",
        "==\tEqual\tx == y\n",
        "!=\tNot equal\tx != y\n",
        ">\tGreater than\tx > y\n",
        "<\tLess than\tx < y\n",
        ">=\tGreater than or equal to\tx >= y\n",
        "<=\tLess than or equal to\tx <= y\n",
        "```"
      ],
      "metadata": {
        "id": "lGPZDvJMKcQF"
      }
    },
    {
      "cell_type": "markdown",
      "source": [
        "#**Python Logical Operators**\n",
        "\n",
        "```\n",
        "and \tReturns True if both statements are true\tx < 5 and  x < 10\n",
        "\n",
        "or\tReturns True if one of the statements is true\tx < 5 or x < 4\n",
        "\n",
        "not\tReverse the result, returns False if the result is true\tnot(x < 5 and x < 10)\n",
        "```"
      ],
      "metadata": {
        "id": "xwwrjKF4MGS1"
      }
    },
    {
      "cell_type": "code",
      "source": [],
      "metadata": {
        "id": "T0vh835eKbip"
      },
      "execution_count": null,
      "outputs": []
    }
  ]
}